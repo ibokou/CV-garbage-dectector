{
 "cells": [
  {
   "attachments": {},
   "cell_type": "markdown",
   "metadata": {},
   "source": [
    "# Final Project: Garbage Detection"
   ]
  },
  {
   "cell_type": "markdown",
   "metadata": {},
   "source": [
    "## Import packages"
   ]
  },
  {
   "cell_type": "code",
   "execution_count": 1,
   "metadata": {},
   "outputs": [],
   "source": [
    "import os\n",
    "\n",
    "import torch\n",
    "import torch.nn as nn\n",
    "from torchvision import transforms\n",
    "from torchvision.datasets import ImageFolder\n",
    "\n",
    "from garbage_detector.application import Application\n",
    "from garbage_detector.models import train\n",
    "from garbage_detector.models.util import load_states_, save_states\n",
    "from garbage_detector.models.benchmark import (DatasetGenerator, DatasetSize,\n",
    "                                              benchmark)\n",
    "from garbage_detector.models.classification.cnn import CNNModel\n",
    "from garbage_detector.models.detection.fasterrcnn import (\n",
    "    FasterRCNNModel, FasterRCNNModelGenerator)\n",
    "from garbage_detector.models.detection.fasterrcnn.custom import (\n",
    "    mobile_net_backbone, resnet50_backbone)\n",
    "from garbage_detector.models.detection.fasterrcnn.data import (\n",
    "    GarbageDetectionDataset, collate_fn)\n",
    "from garbage_detector.util.io import CSVReader, CSVWriter, get_project_root_dir\n"
   ]
  },
  {
   "attachments": {},
   "cell_type": "markdown",
   "metadata": {},
   "source": [
    "## Setup of computing resources"
   ]
  },
  {
   "cell_type": "code",
   "execution_count": 2,
   "metadata": {},
   "outputs": [],
   "source": [
    "device = torch.device('cuda' if torch.cuda.is_available() else 'cpu')\n",
    "kwargs = {'num_workers': 0, 'pin_memory': True} if torch.cuda.is_available() else {\n",
    "}"
   ]
  },
  {
   "attachments": {},
   "cell_type": "markdown",
   "metadata": {},
   "source": [
    "## CNN Garbage Classification Benchmark"
   ]
  },
  {
   "attachments": {},
   "cell_type": "markdown",
   "metadata": {},
   "source": [
    "##### Setup"
   ]
  },
  {
   "cell_type": "code",
   "execution_count": null,
   "metadata": {},
   "outputs": [],
   "source": [
    "cnn_batch_size = 64\n",
    "cnn_test_batch_size = 100\n",
    "cnn_epochs = 10\n",
    "cnn_lr = 1.0\n",
    "cnn_gamma = 0.7\n",
    "cnn_step_size = 1\n",
    "\n",
    "cnn_benchmark_set_sizes = {\n",
    "    DatasetSize.SMALL: 2500,\n",
    "    DatasetSize.MEDIUM: 7500,\n",
    "    DatasetSize.LARGE: 14819\n",
    "}\n",
    "\n",
    "class_transform = transforms.Compose([\n",
    "    transforms.Resize((224, 224)),\n",
    "    transforms.RandomHorizontalFlip(),\n",
    "    transforms.ColorJitter(brightness=0.2, contrast=0.2,\n",
    "                           saturation=0.1, hue=0.1),\n",
    "    transforms.RandomAffine(degrees=40, translate=None,\n",
    "                            scale=(1, 2), shear=15),\n",
    "    transforms.ToTensor(),\n",
    "    transforms.Normalize((0.485, 0.456, 0.406), (0.229, 0.224, 0.225)),\n",
    "])\n",
    "\n",
    "cnn_writer = CSVWriter(os.path.join('results', 'classification',\n",
    "                                    'benchmark.csv'), ['model', 'dataset', 'accuracy'])\n",
    "data_path = os.path.join(get_project_root_dir(), 'data',\n",
    "                         'kaggle', 'garbage_classification', 'normal')\n",
    "\n",
    "class_dataset = ImageFolder(data_path, class_transform)\n",
    "\n",
    "class_dataset_gen = DatasetGenerator(\n",
    "    class_dataset, kwargs, cnn_benchmark_set_sizes, cnn_batch_size, cnn_test_batch_size)\n",
    "\n",
    "cnn_model_list = [CNNModel.MOBILE_NET, CNNModel.RESNET_50,\n",
    "                  CNNModel.GOOGLE_NET, CNNModel.EFFICIENT_NET]\n"
   ]
  },
  {
   "attachments": {},
   "cell_type": "markdown",
   "metadata": {},
   "source": [
    "##### Run Benchmark"
   ]
  },
  {
   "cell_type": "code",
   "execution_count": null,
   "metadata": {},
   "outputs": [],
   "source": [
    "criterion = nn.CrossEntropyLoss()\n",
    "cnn_out_features = len(class_dataset.classes)\n",
    "\n",
    "cnn_results = benchmark.run_benchmark(cnn_model_list, device, cnn_lr, cnn_gamma, cnn_step_size,\n",
    "                                      cnn_out_features, criterion, class_dataset_gen.train_loaders, class_dataset_gen.test_loader, cnn_epochs)\n",
    "cnn_writer.write_header()\n",
    "cnn_writer.write_rows(cnn_results)\n",
    "cnn_writer.close()\n"
   ]
  },
  {
   "attachments": {},
   "cell_type": "markdown",
   "metadata": {},
   "source": [
    "##### Show results"
   ]
  },
  {
   "cell_type": "code",
   "execution_count": 3,
   "metadata": {},
   "outputs": [
    {
     "data": {
      "text/html": [
       "<div>\n",
       "<style scoped>\n",
       "    .dataframe tbody tr th:only-of-type {\n",
       "        vertical-align: middle;\n",
       "    }\n",
       "\n",
       "    .dataframe tbody tr th {\n",
       "        vertical-align: top;\n",
       "    }\n",
       "\n",
       "    .dataframe thead th {\n",
       "        text-align: right;\n",
       "    }\n",
       "</style>\n",
       "<table border=\"1\" class=\"dataframe\">\n",
       "  <thead>\n",
       "    <tr style=\"text-align: right;\">\n",
       "      <th></th>\n",
       "      <th>model</th>\n",
       "      <th>dataset</th>\n",
       "      <th>accuracy</th>\n",
       "    </tr>\n",
       "  </thead>\n",
       "  <tbody>\n",
       "    <tr>\n",
       "      <th>0</th>\n",
       "      <td>cnn_mobilenet</td>\n",
       "      <td>small</td>\n",
       "      <td>85.04</td>\n",
       "    </tr>\n",
       "    <tr>\n",
       "      <th>1</th>\n",
       "      <td>cnn_mobilenet</td>\n",
       "      <td>medium</td>\n",
       "      <td>88.31</td>\n",
       "    </tr>\n",
       "    <tr>\n",
       "      <th>2</th>\n",
       "      <td>cnn_mobilenet</td>\n",
       "      <td>large</td>\n",
       "      <td>89.45</td>\n",
       "    </tr>\n",
       "    <tr>\n",
       "      <th>3</th>\n",
       "      <td>cnn_resnet50</td>\n",
       "      <td>small</td>\n",
       "      <td>86.61</td>\n",
       "    </tr>\n",
       "    <tr>\n",
       "      <th>4</th>\n",
       "      <td>cnn_resnet50</td>\n",
       "      <td>medium</td>\n",
       "      <td>90.09</td>\n",
       "    </tr>\n",
       "    <tr>\n",
       "      <th>5</th>\n",
       "      <td>cnn_resnet50</td>\n",
       "      <td>large</td>\n",
       "      <td>91.65</td>\n",
       "    </tr>\n",
       "    <tr>\n",
       "      <th>6</th>\n",
       "      <td>cnn_googlenet</td>\n",
       "      <td>small</td>\n",
       "      <td>84.09</td>\n",
       "    </tr>\n",
       "    <tr>\n",
       "      <th>7</th>\n",
       "      <td>cnn_googlenet</td>\n",
       "      <td>medium</td>\n",
       "      <td>88.22</td>\n",
       "    </tr>\n",
       "    <tr>\n",
       "      <th>8</th>\n",
       "      <td>cnn_googlenet</td>\n",
       "      <td>large</td>\n",
       "      <td>89.23</td>\n",
       "    </tr>\n",
       "    <tr>\n",
       "      <th>9</th>\n",
       "      <td>cnn_efficientnet</td>\n",
       "      <td>small</td>\n",
       "      <td>86.93</td>\n",
       "    </tr>\n",
       "    <tr>\n",
       "      <th>10</th>\n",
       "      <td>cnn_efficientnet</td>\n",
       "      <td>medium</td>\n",
       "      <td>90.07</td>\n",
       "    </tr>\n",
       "    <tr>\n",
       "      <th>11</th>\n",
       "      <td>cnn_efficientnet</td>\n",
       "      <td>large</td>\n",
       "      <td>91.20</td>\n",
       "    </tr>\n",
       "  </tbody>\n",
       "</table>\n",
       "</div>"
      ],
      "text/plain": [
       "               model dataset  accuracy\n",
       "0      cnn_mobilenet   small     85.04\n",
       "1      cnn_mobilenet  medium     88.31\n",
       "2      cnn_mobilenet   large     89.45\n",
       "3       cnn_resnet50   small     86.61\n",
       "4       cnn_resnet50  medium     90.09\n",
       "5       cnn_resnet50   large     91.65\n",
       "6      cnn_googlenet   small     84.09\n",
       "7      cnn_googlenet  medium     88.22\n",
       "8      cnn_googlenet   large     89.23\n",
       "9   cnn_efficientnet   small     86.93\n",
       "10  cnn_efficientnet  medium     90.07\n",
       "11  cnn_efficientnet   large     91.20"
      ]
     },
     "metadata": {},
     "output_type": "display_data"
    }
   ],
   "source": [
    "cnn_res_reader = CSVReader(os.path.join(\n",
    "    'results', 'classification', 'benchmark.csv'))\n",
    "cnn_res_reader()"
   ]
  },
  {
   "attachments": {},
   "cell_type": "markdown",
   "metadata": {},
   "source": [
    "## Faster RCNN Garbage Detection Benchmark"
   ]
  },
  {
   "attachments": {},
   "cell_type": "markdown",
   "metadata": {},
   "source": [
    "##### Setup"
   ]
  },
  {
   "cell_type": "code",
   "execution_count": null,
   "metadata": {},
   "outputs": [],
   "source": [
    "fasterrcnn_batch_size = 2\n",
    "fasterrcnn_test_batch_size = 2\n",
    "fasterrcnn_epochs = 10\n",
    "fasterrcnn_lr = 0.005\n",
    "fasterrcnn_gamma = 0.1\n",
    "fasterrcnn_step_size = 3\n",
    "\n",
    "fasterrcnn_benchmark_set_sizes = {\n",
    "    DatasetSize.SMALL: 200,\n",
    "    DatasetSize.MEDIUM: 600,\n",
    "    DatasetSize.LARGE: 1100\n",
    "}\n",
    "\n",
    "detect_transform = transforms.Compose([\n",
    "    transforms.ToTensor(),\n",
    "    transforms.Normalize((0.485, 0.456, 0.406), (0.229, 0.224, 0.225)),\n",
    "    transforms.ConvertImageDtype(torch.float)\n",
    "])\n",
    "\n",
    "fasterrcnn_writer = CSVWriter(os.path.join('results', 'detection', 'benchmark.csv'), [\n",
    "    'model', 'dataset', 'map', 'map_50', 'map_75', 'mar_100'])\n",
    "detect_dataset = GarbageDetectionDataset(os.path.join(\n",
    "    'data', 'kaggle', 'garbage_classification', 'annotated'), detect_transform)\n",
    "\n",
    "fasterrcnn_out_features = len(detect_dataset.get_classes()) + 1\n",
    "detect_dataset_gen = DatasetGenerator(detect_dataset, kwargs, fasterrcnn_benchmark_set_sizes, fasterrcnn_batch_size,\n",
    "                                      fasterrcnn_test_batch_size, collate_fn=collate_fn)\n",
    "\n",
    "fasterrcnn_model_list = [FasterRCNNModel.RESNET_50, FasterRCNNModel.MOBILE_NET, FasterRCNNModel.CUSTOM_RESNET_50,\n",
    "                         FasterRCNNModel.CUSTOM_MOBILE_NET]\n"
   ]
  },
  {
   "attachments": {},
   "cell_type": "markdown",
   "metadata": {},
   "source": [
    "##### Run Benchmark"
   ]
  },
  {
   "cell_type": "code",
   "execution_count": null,
   "metadata": {},
   "outputs": [],
   "source": [
    "results = benchmark.run_benchmark(fasterrcnn_model_list, device, fasterrcnn_lr, fasterrcnn_gamma, fasterrcnn_step_size,\n",
    "                                  fasterrcnn_out_features, None, detect_dataset_gen.train_loaders, detect_dataset_gen.test_loader, fasterrcnn_epochs, True)\n",
    "fasterrcnn_writer.write_header()\n",
    "fasterrcnn_writer.write_rows(results)\n",
    "fasterrcnn_writer.close()"
   ]
  },
  {
   "attachments": {},
   "cell_type": "markdown",
   "metadata": {},
   "source": [
    "##### Show Results"
   ]
  },
  {
   "cell_type": "code",
   "execution_count": 4,
   "metadata": {},
   "outputs": [
    {
     "data": {
      "text/html": [
       "<div>\n",
       "<style scoped>\n",
       "    .dataframe tbody tr th:only-of-type {\n",
       "        vertical-align: middle;\n",
       "    }\n",
       "\n",
       "    .dataframe tbody tr th {\n",
       "        vertical-align: top;\n",
       "    }\n",
       "\n",
       "    .dataframe thead th {\n",
       "        text-align: right;\n",
       "    }\n",
       "</style>\n",
       "<table border=\"1\" class=\"dataframe\">\n",
       "  <thead>\n",
       "    <tr style=\"text-align: right;\">\n",
       "      <th></th>\n",
       "      <th>model</th>\n",
       "      <th>dataset</th>\n",
       "      <th>map</th>\n",
       "      <th>map_50</th>\n",
       "      <th>map_75</th>\n",
       "      <th>mar_100</th>\n",
       "    </tr>\n",
       "  </thead>\n",
       "  <tbody>\n",
       "    <tr>\n",
       "      <th>0</th>\n",
       "      <td>fasterrcnn_resnet50</td>\n",
       "      <td>small</td>\n",
       "      <td>48.0</td>\n",
       "      <td>61.4</td>\n",
       "      <td>57.6</td>\n",
       "      <td>74.0</td>\n",
       "    </tr>\n",
       "    <tr>\n",
       "      <th>1</th>\n",
       "      <td>fasterrcnn_resnet50</td>\n",
       "      <td>medium</td>\n",
       "      <td>65.6</td>\n",
       "      <td>79.7</td>\n",
       "      <td>75.2</td>\n",
       "      <td>83.1</td>\n",
       "    </tr>\n",
       "    <tr>\n",
       "      <th>2</th>\n",
       "      <td>fasterrcnn_resnet50</td>\n",
       "      <td>large</td>\n",
       "      <td>84.4</td>\n",
       "      <td>95.1</td>\n",
       "      <td>93.3</td>\n",
       "      <td>90.9</td>\n",
       "    </tr>\n",
       "    <tr>\n",
       "      <th>3</th>\n",
       "      <td>fasterrcnn_mobilenet</td>\n",
       "      <td>small</td>\n",
       "      <td>54.4</td>\n",
       "      <td>69.1</td>\n",
       "      <td>64.3</td>\n",
       "      <td>71.8</td>\n",
       "    </tr>\n",
       "    <tr>\n",
       "      <th>4</th>\n",
       "      <td>fasterrcnn_mobilenet</td>\n",
       "      <td>medium</td>\n",
       "      <td>79.5</td>\n",
       "      <td>92.9</td>\n",
       "      <td>89.0</td>\n",
       "      <td>85.2</td>\n",
       "    </tr>\n",
       "    <tr>\n",
       "      <th>5</th>\n",
       "      <td>fasterrcnn_mobilenet</td>\n",
       "      <td>large</td>\n",
       "      <td>89.6</td>\n",
       "      <td>98.4</td>\n",
       "      <td>97.0</td>\n",
       "      <td>92.4</td>\n",
       "    </tr>\n",
       "    <tr>\n",
       "      <th>6</th>\n",
       "      <td>fasterrcnn_custom_resnet50</td>\n",
       "      <td>small</td>\n",
       "      <td>0.0</td>\n",
       "      <td>0.0</td>\n",
       "      <td>0.0</td>\n",
       "      <td>0.4</td>\n",
       "    </tr>\n",
       "    <tr>\n",
       "      <th>7</th>\n",
       "      <td>fasterrcnn_custom_resnet50</td>\n",
       "      <td>medium</td>\n",
       "      <td>0.6</td>\n",
       "      <td>3.2</td>\n",
       "      <td>0.0</td>\n",
       "      <td>4.5</td>\n",
       "    </tr>\n",
       "    <tr>\n",
       "      <th>8</th>\n",
       "      <td>fasterrcnn_custom_resnet50</td>\n",
       "      <td>large</td>\n",
       "      <td>1.4</td>\n",
       "      <td>6.4</td>\n",
       "      <td>0.2</td>\n",
       "      <td>6.7</td>\n",
       "    </tr>\n",
       "    <tr>\n",
       "      <th>9</th>\n",
       "      <td>fasterrcnn_custom_mobilenet</td>\n",
       "      <td>small</td>\n",
       "      <td>6.6</td>\n",
       "      <td>15.9</td>\n",
       "      <td>3.7</td>\n",
       "      <td>15.7</td>\n",
       "    </tr>\n",
       "    <tr>\n",
       "      <th>10</th>\n",
       "      <td>fasterrcnn_custom_mobilenet</td>\n",
       "      <td>medium</td>\n",
       "      <td>21.2</td>\n",
       "      <td>45.8</td>\n",
       "      <td>14.7</td>\n",
       "      <td>38.1</td>\n",
       "    </tr>\n",
       "    <tr>\n",
       "      <th>11</th>\n",
       "      <td>fasterrcnn_custom_mobilenet</td>\n",
       "      <td>large</td>\n",
       "      <td>31.5</td>\n",
       "      <td>61.0</td>\n",
       "      <td>29.0</td>\n",
       "      <td>48.6</td>\n",
       "    </tr>\n",
       "  </tbody>\n",
       "</table>\n",
       "</div>"
      ],
      "text/plain": [
       "                          model dataset   map  map_50  map_75  mar_100\n",
       "0           fasterrcnn_resnet50   small  48.0    61.4    57.6     74.0\n",
       "1           fasterrcnn_resnet50  medium  65.6    79.7    75.2     83.1\n",
       "2           fasterrcnn_resnet50   large  84.4    95.1    93.3     90.9\n",
       "3          fasterrcnn_mobilenet   small  54.4    69.1    64.3     71.8\n",
       "4          fasterrcnn_mobilenet  medium  79.5    92.9    89.0     85.2\n",
       "5          fasterrcnn_mobilenet   large  89.6    98.4    97.0     92.4\n",
       "6    fasterrcnn_custom_resnet50   small   0.0     0.0     0.0      0.4\n",
       "7    fasterrcnn_custom_resnet50  medium   0.6     3.2     0.0      4.5\n",
       "8    fasterrcnn_custom_resnet50   large   1.4     6.4     0.2      6.7\n",
       "9   fasterrcnn_custom_mobilenet   small   6.6    15.9     3.7     15.7\n",
       "10  fasterrcnn_custom_mobilenet  medium  21.2    45.8    14.7     38.1\n",
       "11  fasterrcnn_custom_mobilenet   large  31.5    61.0    29.0     48.6"
      ]
     },
     "metadata": {},
     "output_type": "display_data"
    }
   ],
   "source": [
    "fasterrcnn_res_reader = CSVReader(os.path.join(\n",
    "    'results', 'detection', 'benchmark.csv'))\n",
    "fasterrcnn_res_reader()"
   ]
  },
  {
   "attachments": {},
   "cell_type": "markdown",
   "metadata": {},
   "source": [
    "## Garbage Detection Demo"
   ]
  },
  {
   "attachments": {},
   "cell_type": "markdown",
   "metadata": {},
   "source": [
    "##### Setup"
   ]
  },
  {
   "cell_type": "code",
   "execution_count": null,
   "metadata": {},
   "outputs": [],
   "source": [
    "fasterrcnn_batch_size = 2\n",
    "fasterrcnn_test_batch_size = 2\n",
    "fasterrcnn_epochs = 10\n",
    "fasterrcnn_lr = 0.005\n",
    "fasterrcnn_gamma = 0.1\n",
    "fasterrcnn_step_size = 3\n",
    "\n",
    "detect_dataset = GarbageDetectionDataset(os.path.join(\n",
    "    'data', 'kaggle', 'garbage_classification', 'annotated'), None)\n",
    "\n",
    "fasterrcnn_out_features = len(detect_dataset.get_classes()) + 1\n",
    "\n",
    "\n",
    "fasterrcnn_model_list = [FasterRCNNModel.RESNET_50, FasterRCNNModel.MOBILE_NET, FasterRCNNModel.CUSTOM_RESNET_50,\n",
    "                         FasterRCNNModel.CUSTOM_MOBILE_NET]\n",
    "\n",
    "fasterrcnn_model_gen = FasterRCNNModelGenerator()\n",
    "\n",
    "fasterrcnn_custom_models = {\n",
    "    FasterRCNNModel.CUSTOM_RESNET_50: fasterrcnn_model_gen.create_model_with_custom_backbone(resnet50_backbone, fasterrcnn_lr, fasterrcnn_gamma, fasterrcnn_step_size, fasterrcnn_out_features),\n",
    "    FasterRCNNModel.CUSTOM_MOBILE_NET: fasterrcnn_model_gen.create_model_with_custom_backbone(\n",
    "        mobile_net_backbone, fasterrcnn_lr, fasterrcnn_gamma, fasterrcnn_step_size, fasterrcnn_out_features)\n",
    "}\n",
    "\n",
    "fasterrcnn_models = {m: fasterrcnn_model_gen.create_model(m, fasterrcnn_lr, fasterrcnn_gamma, fasterrcnn_step_size, fasterrcnn_out_features)\n",
    "                     if 'custom' not in m else fasterrcnn_custom_models[m] for m in fasterrcnn_model_list}\n"
   ]
  },
  {
   "attachments": {},
   "cell_type": "markdown",
   "metadata": {},
   "source": [
    "##### Train"
   ]
  },
  {
   "cell_type": "code",
   "execution_count": null,
   "metadata": {},
   "outputs": [],
   "source": [
    "demo_train_epoch = 20\n",
    "\n",
    "for m in fasterrcnn_models:\n",
    "    model, optimizer, scheduler = fasterrcnn_models[m]\n",
    "    load_states_(m, model)\n",
    "    for epoch in range(0, demo_train_epoch):\n",
    "        train(model, device, detect_dataset_gen.test_loader, optimizer)\n",
    "        scheduler.step()\n",
    "        save_states(m, model, optimizer)\n"
   ]
  },
  {
   "attachments": {},
   "cell_type": "markdown",
   "metadata": {},
   "source": [
    "##### Run Application"
   ]
  },
  {
   "cell_type": "code",
   "execution_count": null,
   "metadata": {},
   "outputs": [],
   "source": [
    "app_name = 'FRCNN Garbage Detection'\n",
    "detection_threshold = 0.6\n",
    "\n",
    "demo_transform = transforms.Compose([\n",
    "    transforms.ToPILImage(),\n",
    "    transforms.ToTensor(),\n",
    "])\n",
    "\n",
    "demo_model = fasterrcnn_models[FasterRCNNModel.RESNET_50][0]\n",
    "demo_model.to(device)\n",
    "load_states_(FasterRCNNModel.RESNET_50, demo_model, force_download=True)\n",
    "\n",
    "classes = detect_dataset.get_classes().copy()\n",
    "classes.insert(0, 'background')\n",
    "application = Application(app_name, demo_model, device,\n",
    "                          demo_transform, classes, detection_threshold)\n",
    "application.run()\n"
   ]
  }
 ],
 "metadata": {
  "kernelspec": {
   "display_name": "Python 3",
   "language": "python",
   "name": "python3"
  },
  "language_info": {
   "codemirror_mode": {
    "name": "ipython",
    "version": 3
   },
   "file_extension": ".py",
   "mimetype": "text/x-python",
   "name": "python",
   "nbconvert_exporter": "python",
   "pygments_lexer": "ipython3",
   "version": "3.10.10"
  },
  "vscode": {
   "interpreter": {
    "hash": "916dbcbb3f70747c44a77c7bcd40155683ae19c65e1c03b4aa3499c5328201f1"
   }
  }
 },
 "nbformat": 4,
 "nbformat_minor": 4
}
